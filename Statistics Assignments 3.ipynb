{
 "cells": [
  {
   "cell_type": "code",
   "execution_count": 1,
   "metadata": {},
   "outputs": [],
   "source": [
    "import numpy as np\n",
    "import scipy.stats as stats"
   ]
  },
  {
   "cell_type": "markdown",
   "metadata": {},
   "source": [
    "### Problem Statement 1:\n",
    "\n",
    "Blood glucose levels for obese patients have a mean of 100 with a standard deviation of 15. A researcher thinks that a diet high in raw cornstarch will have a positive effect on blood glucose levels. A sample of 36 patients who have tried the raw cornstarch diet have a mean glucose level of 108. Test the hypothesis that the raw cornstarch had an effect or not."
   ]
  },
  {
   "cell_type": "code",
   "execution_count": 2,
   "metadata": {},
   "outputs": [],
   "source": [
    "#H0 : population mean of Blood glucose levels for obese patients = 100.\n",
    "\n",
    "#H1 : population mean of Blood glucose levels for obese patients != 100."
   ]
  },
  {
   "cell_type": "code",
   "execution_count": 3,
   "metadata": {},
   "outputs": [
    {
     "name": "stdout",
     "output_type": "stream",
     "text": [
      "Z Statistic = 3.2\n",
      "Z alpha = 1.9599639845400545\n",
      "P-value = 0.0013742758758316942\n"
     ]
    }
   ],
   "source": [
    "mu = 100\n",
    "sigma = 15\n",
    "n = 36\n",
    "xbar = 108\n",
    "alpha = 0.05\n",
    "se = sigma/np.sqrt(n)\n",
    "zstat = (xbar - mu)/se\n",
    "zalphaby2 = stats.norm.isf(alpha/2)\n",
    "pvalue = stats.norm.sf(zstat) * 2\n",
    "print('Z Statistic =',zstat)\n",
    "print('Z alpha =',zalphaby2)\n",
    "print('P-value =',pvalue)"
   ]
  },
  {
   "cell_type": "markdown",
   "metadata": {},
   "source": [
    "As pvalue < 0.05 and Z-statistic > Z-alpha , we reject the null hypothesis and accept the alternate hypothesis i.e. population mean of Blood glucose levels for obese patients != 100 so the raw cornstarch had an effect."
   ]
  },
  {
   "cell_type": "markdown",
   "metadata": {},
   "source": [
    "### Problem Statement 2:\n",
    "\n",
    "In one state, 52% of the voters are Republicans, and 48% are Democrats. In a second state, 47% of the voters are Republicans, and 53% are Democrats. Suppose a simple random sample of 100 voters are surveyed from each state.\n",
    "\n",
    "What is the probability that the survey will show a greater percentage of Republican voters in the second state than in the first state?"
   ]
  },
  {
   "cell_type": "code",
   "execution_count": 4,
   "metadata": {},
   "outputs": [
    {
     "name": "stdout",
     "output_type": "stream",
     "text": [
      "the probability that the survey will show a greater percentage of Republican voters in the second state than in the first state is 0.23946399182220013\n"
     ]
    }
   ],
   "source": [
    "n = 100\n",
    "p1 = 0.52\n",
    "q1 = 1 - p1\n",
    "p2 = 0.47\n",
    "q2 = 1 - p2\n",
    "se = np.sqrt(((p1*q1) + (p2*q2))/n)\n",
    "zstat = (p1 - p2)/se\n",
    "pvalue = stats.norm.sf(zstat)\n",
    "print('the probability that the survey will show a greater percentage of Republican voters in the second state than in the first state is',pvalue)"
   ]
  },
  {
   "cell_type": "markdown",
   "metadata": {},
   "source": [
    "### Problem Statement 3:\n",
    "\n",
    "You take the SAT and score 1100. The mean score for the SAT is 1026 and the standard deviation is 209. How well did you score on the test compared to the average test taker?"
   ]
  },
  {
   "cell_type": "code",
   "execution_count": 5,
   "metadata": {},
   "outputs": [
    {
     "name": "stdout",
     "output_type": "stream",
     "text": [
      "So I scored well than 63.84 % people.\n"
     ]
    }
   ],
   "source": [
    "mu = 1026\n",
    "xbar = 1100\n",
    "sigma = 209\n",
    "zstat = (xbar - mu)/sigma\n",
    "pvalue = stats.norm.cdf(zstat)\n",
    "print('So I scored well than',round(pvalue*100,2),'% people.')"
   ]
  },
  {
   "cell_type": "code",
   "execution_count": null,
   "metadata": {},
   "outputs": [],
   "source": []
  }
 ],
 "metadata": {
  "kernelspec": {
   "display_name": "Python 3",
   "language": "python",
   "name": "python3"
  },
  "language_info": {
   "codemirror_mode": {
    "name": "ipython",
    "version": 3
   },
   "file_extension": ".py",
   "mimetype": "text/x-python",
   "name": "python",
   "nbconvert_exporter": "python",
   "pygments_lexer": "ipython3",
   "version": "3.8.5"
  }
 },
 "nbformat": 4,
 "nbformat_minor": 4
}
