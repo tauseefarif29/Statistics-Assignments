{
 "cells": [
  {
   "cell_type": "markdown",
   "metadata": {},
   "source": [
    "Calculate the mean, median, mode and standard deviation for the problem\n",
    "statements 1& 2."
   ]
  },
  {
   "cell_type": "markdown",
   "metadata": {},
   "source": [
    "Problem Statement 1:\n",
    "The marks awarded for an assignment set for a Year 8 class of 20 students were as\n",
    "follows:\n",
    "6 7 5 7 7 8 7 6 9 7 4 10 6 8 8 9 5 6 4 8"
   ]
  },
  {
   "cell_type": "code",
   "execution_count": 1,
   "metadata": {},
   "outputs": [],
   "source": [
    "import numpy as np\n",
    "import pandas as pd\n",
    "import matplotlib.pyplot as plt\n",
    "import scipy.stats as stats\n",
    "%matplotlib inline\n",
    "import math\n",
    "import seaborn as sns"
   ]
  },
  {
   "cell_type": "code",
   "execution_count": 11,
   "metadata": {},
   "outputs": [
    {
     "name": "stdout",
     "output_type": "stream",
     "text": [
      "The mean for given data is: 6.764705882352941\n",
      "The median for given data is: 7.0\n",
      "The mode for given data is: ModeResult(mode=array([7]), count=array([4]))\n",
      "The standard deviation for given data is: 1.6280414709527116\n"
     ]
    }
   ],
   "source": [
    "marks = np.array([6,7,5,7,7,8,7,4,10,6,8,8,9,5,6,4,8])\n",
    "print('The mean for given data is:', marks.mean())\n",
    "print('The median for given data is:', np.median(marks))\n",
    "print('The mode for given data is:', stats.mode(marks))\n",
    "print('The standard deviation for given data is:', marks.std())"
   ]
  },
  {
   "cell_type": "markdown",
   "metadata": {},
   "source": [
    "Problem Statement 2:\n",
    "The number of calls from motorists per day for roadside service was recorded for a particular month: 28, 122, 217, 130, 120, 86, 80, 90, 140, 120, 70, 40, 145, 113, 90, 68, 174, 194, 170,100, 75, 104, 97, 75,123, 100, 75, 104, 97, 75, 123, 100, 89, 120, 109"
   ]
  },
  {
   "cell_type": "code",
   "execution_count": 12,
   "metadata": {},
   "outputs": [
    {
     "name": "stdout",
     "output_type": "stream",
     "text": [
      "The mean for given data is: 107.51428571428572\n",
      "The median for given data is: 100.0\n",
      "The mode for given data is: ModeResult(mode=array([75]), count=array([4]))\n",
      "The standard deviation for given data is: 38.77287080168403\n"
     ]
    }
   ],
   "source": [
    "call = np.array([28, 122, 217, 130, 120, 86, 80, 90, 140, 120, 70, 40, 145, 113, 90, 68, 174, 194, 170, 100, 75, 104, 97, 75, 123, 100, 75, 104, 97, 75, 123, 100, 89, 120, 109])\n",
    "print('The mean for given data is:', call.mean())\n",
    "print('The median for given data is:', np.median(call))\n",
    "print('The mode for given data is:', stats.mode(call))\n",
    "print('The standard deviation for given data is:', call.std())"
   ]
  },
  {
   "cell_type": "markdown",
   "metadata": {},
   "source": [
    "Problem Statement 3:\n",
    "The number of times I go to the gym in weekdays, are given below along with its\n",
    "associated probability:\n",
    "x = 0, 1, 2, 3, 4, 5\n",
    "f(x) = 0.09, 0.15, 0.40, 0.25, 0.10, 0.01\n",
    "Calculate the mean no. of workouts in a week. Also evaluate the variance involved in\n",
    "it."
   ]
  },
  {
   "cell_type": "code",
   "execution_count": 13,
   "metadata": {},
   "outputs": [
    {
     "name": "stdout",
     "output_type": "stream",
     "text": [
      "Mean is  2.15\n",
      "Variance is  1.2275\n"
     ]
    }
   ],
   "source": [
    "x = np.array([0, 1, 2, 3, 4, 5])\n",
    "prob = np.array([0.09, 0.15, 0.40, 0.25, 0.10, 0.01])\n",
    "mean = 0\n",
    "for i in x*prob:\n",
    "  mean += i\n",
    "print('Mean is ',mean )\n",
    "var = 0\n",
    "for i in range(len(x)):\n",
    "  var += ((x[i] - mean)**2) * prob[i]\n",
    "print('Variance is ',var)"
   ]
  },
  {
   "cell_type": "markdown",
   "metadata": {},
   "source": [
    "Problem Statement 4:\n",
    "Let the continuous random variable D denote the diameter of the hole drilled in an\n",
    "aluminum sheet. The target diameter to be achieved is 12.5mm. Random\n",
    "disturbances in the process often result in inaccuracy.\n",
    "Historical data shows that the distribution of D can be modelled by the PDF (d) =\n",
    "20e−20(d−12.5), d ≥ 12.5. If a part with diameter > 12.6 mm needs to be scrapped,\n",
    "what is the proportion of those parts? What is the CDF when the diameter is of 11\n",
    "mm? What is your conclusion regarding the proportion of scraps?"
   ]
  },
  {
   "cell_type": "raw",
   "metadata": {},
   "source": [
    "# Proportion of data lying between 12.6 and 12.5 can be calculated by the area lying under the curve P(12.5<X<12.6) = integration of fx from 12.5 to 12.6 which comes out to be 0.865"
   ]
  },
  {
   "cell_type": "markdown",
   "metadata": {},
   "source": [
    "Problem Statement 5:\n",
    "\n",
    "A company manufactures LED bulbs with a faulty rate of 30%. If I randomly select 6\n",
    "chosen LEDs, what is the probability of having 2 faulty LEDs in my sample?\n",
    "Calculate the average value of this process. Also evaluate the standard deviation\n",
    "associated with it."
   ]
  },
  {
   "cell_type": "code",
   "execution_count": 15,
   "metadata": {},
   "outputs": [
    {
     "name": "stdout",
     "output_type": "stream",
     "text": [
      "0.32413499999999995\n",
      "Average value = 1.7999999999999998\n",
      "Standar Deviation = 1.1224972160321822\n"
     ]
    }
   ],
   "source": [
    "n = 6\n",
    "x = 2\n",
    "p = 0.3\n",
    "print(stats.binom.pmf(x,n,p))\n",
    "print('Average value =',n*p)\n",
    "print('Standar Deviation =',np.sqrt(n*p*(1-p)))"
   ]
  },
  {
   "cell_type": "markdown",
   "metadata": {},
   "source": [
    "Problem Statement 6:\n",
    "\n",
    "Gaurav and Barakha are both preparing for entrance exams. Gaurav attempts to\n",
    "solve 8 questions per day with a correction rate of 75%, while Barakha averages\n",
    "around 12 questions per day with a correction rate of 45%. What is the probability\n",
    "that each of them will solve 5 questions correctly? What happens in cases of 4 and 6\n",
    "correct solutions? What do you infer from it? What are the two main governing\n",
    "factors affecting their ability to solve questions correctly? Give a pictorial\n",
    "representation of the same to validate your answer."
   ]
  },
  {
   "cell_type": "code",
   "execution_count": 16,
   "metadata": {},
   "outputs": [
    {
     "name": "stdout",
     "output_type": "stream",
     "text": [
      "16.06 % prob that Gaurav will solve 5 questions correctly\n",
      "17.28 % prob that Barakha will solve 5 questions correctly\n",
      "13.39 % prob that Gaurav will solve 4 questions correctly\n",
      "15.55 % prob that Barakha will solve 6 questions correctly\n"
     ]
    }
   ],
   "source": [
    "lambdag = 8*0.75\n",
    "lambdab = 12*.45\n",
    "g = stats.poisson.pmf(5,lambdag)\n",
    "b = stats.poisson.pmf(5,lambdab)\n",
    "g1 = stats.poisson.pmf(4,lambdag)\n",
    "b1 = stats.poisson.pmf(6,lambdab)\n",
    "print(round(g*100,2),'% prob that Gaurav will solve 5 questions correctly')\n",
    "print(round(b*100,2),'% prob that Barakha will solve 5 questions correctly')\n",
    "print(round(g1*100,2),'% prob that Gaurav will solve 4 questions correctly')\n",
    "print(round(b1*100,2),'% prob that Barakha will solve 6 questions correctly')"
   ]
  },
  {
   "cell_type": "markdown",
   "metadata": {},
   "source": [
    "Problem Statement 7:\n",
    "Customers arrive at a rate of 72 per hour to my shop. What is the probability of 𝑘 customers arriving in 4 minutes? a) 5 customers, b) not more than 3 customers, c) more than 3 customers."
   ]
  },
  {
   "cell_type": "code",
   "execution_count": 17,
   "metadata": {},
   "outputs": [
    {
     "name": "stdout",
     "output_type": "stream",
     "text": [
      " 5 customers : 0.17474768364388296\n",
      " not more than 3 customers  : 0.1425392188890269\n",
      "more than 3 customers  : 0.8574607811109731\n"
     ]
    }
   ],
   "source": [
    "lambda_rate = 72 * 4 / 60\n",
    "a = stats.poisson.pmf(5,lambda_rate)\n",
    "b = stats.poisson.cdf(2,lambda_rate)\n",
    "c = stats.poisson.sf(2,lambda_rate)\n",
    "print(' 5 customers :',a)\n",
    "print(' not more than 3 customers  :',b)\n",
    "print('more than 3 customers  :',c)"
   ]
  },
  {
   "cell_type": "markdown",
   "metadata": {},
   "source": [
    "Problem Statement 8:\n",
    "I work as a data analyst in Aeon Learning Pvt. Ltd. After analyzing data, I make reports, where I have the efficiency of entering 77 words per minute with 6 errors per hour. What is the probability that I will commit 2 errors in a 455-word financial report? What happens when the no. of words increases/decreases (in case of 1000 words, 255 words)?"
   ]
  },
  {
   "cell_type": "code",
   "execution_count": 18,
   "metadata": {},
   "outputs": [
    {
     "name": "stdout",
     "output_type": "stream",
     "text": [
      "the probability that I will commit 2 errors in a 455-word financial report is 2.51536143880336e-13\n",
      "the probability that I will commit 2 errors in a 455-word financial report is 4.3768593897408885e-31\n",
      "the probability that I will commit 2 errors in a 455-word financial report is 4.633227851444488e-07\n"
     ]
    }
   ],
   "source": [
    "error1 = 455 * 6 / 77\n",
    "print('the probability that I will commit 2 errors in a 455-word financial report is',stats.poisson.pmf(2,error1))\n",
    "error2 = 1000 * 6 / 77\n",
    "print('the probability that I will commit 2 errors in a 455-word financial report is',stats.poisson.pmf(2,error2))\n",
    "error3 = 255 * 6 / 77\n",
    "print('the probability that I will commit 2 errors in a 455-word financial report is',stats.poisson.pmf(2,error3))"
   ]
  },
  {
   "cell_type": "markdown",
   "metadata": {},
   "source": [
    "Problem Statement 9:\n",
    "\n",
    "Let the continuous random variable D denote the diameter of the hole drilled in an\n",
    "aluminum sheet. The target diameter to be achieved is 12.5mm. Random\n",
    "disturbances in the process often result in inaccuracy.\n",
    "Historical data shows that the distribution of D can be modelled by the PDF, f(d) =\n",
    "20e−20(d−12.5), d ≥ 12.5. If a part with diameter > 12.6 mm needs to be scrapped,\n",
    "what is the proportion of those parts? What is the CDF when the diameter is of 11\n",
    "mm?\n",
    "What is the conclusion of this experiment?"
   ]
  },
  {
   "cell_type": "raw",
   "metadata": {},
   "source": [
    "Proportion of data lying between 12.6 and 12.5 can be calculated by the area lying under the curve \n",
    "P(12.5<X<12.6) = integration of fx from 12.5 to 12.6 which comes out to be 0.865"
   ]
  },
  {
   "cell_type": "markdown",
   "metadata": {},
   "source": [
    "Problem Statement 10:\n",
    "Please compute the following:\n",
    "a) P(Z > 1.26), . P(Z < −0.86), P(Z > −1.37), P(−1.25 < Z < 0.37), . P(Z ≤ −4.6)\n",
    "b) Find the value 𝑧 such that 𝑃(𝑍 > 𝑧) = 0.05\n",
    "c) Find the value of 𝑧 such that 𝑃(−𝑧 < 𝑍 < 𝑧) = 0.99"
   ]
  },
  {
   "cell_type": "code",
   "execution_count": 20,
   "metadata": {},
   "outputs": [
    {
     "name": "stdout",
     "output_type": "stream",
     "text": [
      "P(Z > 1.26) = 0.1038346811213004\n",
      "P(Z < −0.86) = 0.1948945212518084\n",
      "P(Z > −1.37) = 0.914656549178033\n",
      "P(−1.25 < Z < 0.37) = 0.5386589811336914\n",
      "P(Z ≤ −4.6) = 2.1124547025028537e-06\n",
      "The value of z is = 1.6448536269514729\n",
      "The value of z is = 2.3263478740408408\n"
     ]
    }
   ],
   "source": [
    "a1 = stats.norm.sf(1.26)\n",
    "a2 = stats.norm.cdf(-0.86)\n",
    "a3 = stats.norm.sf(-1.37)\n",
    "a4 = stats.norm.cdf(0.37) - stats.norm.cdf(-1.25)\n",
    "a5 = stats.norm.cdf(-4.6)\n",
    "print ('P(Z > 1.26) =',a1)\n",
    "print ('P(Z < −0.86) =',a2)\n",
    "print ('P(Z > −1.37) =',a3)\n",
    "print ('P(−1.25 < Z < 0.37) =',a4)\n",
    "print ('P(Z ≤ −4.6) =',a5)\n",
    "b = stats.norm.isf(0.05)\n",
    "c = stats.norm.ppf(0.99)\n",
    "print('The value of z is =',b)\n",
    "print('The value of z is =',c)"
   ]
  },
  {
   "cell_type": "markdown",
   "metadata": {},
   "source": [
    "Problem Statement 11:\n",
    "The current flow in a copper wire follow a normal distribution with a mean of 10 𝑚A and a variance of 4 (𝑚𝐴)2. What is the probability that a current measurement will exceed 13 𝑚𝐴? What is the probability that a current measurement is between 9 and 11mA? Determine the current measurement which has a probability of 0.98.¶"
   ]
  },
  {
   "cell_type": "code",
   "execution_count": 21,
   "metadata": {},
   "outputs": [
    {
     "name": "stdout",
     "output_type": "stream",
     "text": [
      "The probability that current measurement will exceed 13mA is  0.06680720126885807\n",
      "The probability that current measurement is between 9 and 11mA is  0.38292492254802624\n",
      "The current measurement which has a probability of 0.98 is  14.107497821263646\n"
     ]
    }
   ],
   "source": [
    "mu = 10\n",
    "var = 4\n",
    "sigma = np.sqrt(var)\n",
    "print('The probability that current measurement will exceed 13mA is ',stats.norm.sf(13,mu,sigma))\n",
    "print('The probability that current measurement is between 9 and 11mA is ',stats.norm.cdf(11,mu,sigma) - stats.norm.cdf(9,mu,sigma))\n",
    "print('The current measurement which has a probability of 0.98 is ',stats.norm.ppf(0.98,mu,sigma))"
   ]
  },
  {
   "cell_type": "markdown",
   "metadata": {},
   "source": [
    "Problem Statement 12:\n",
    "The shaft in a piston has its diameter normally distributed with a mean of 0.2508 inch and a standard deviation of 0.0005 inch. The specifications of the shaft are 0.2500 ∓ 0.0015 inch. What proportion of shafts are in sync with the specifications? If the process is centered so that the mean is equal to the target value of 0.2500, what proportion of shafts conform to the new specifications? What is your conclusion from this experiment?"
   ]
  },
  {
   "cell_type": "code",
   "execution_count": 22,
   "metadata": {},
   "outputs": [
    {
     "name": "stdout",
     "output_type": "stream",
     "text": [
      "The proportion of shafts are in range from  0.020281704130968945  to 299.45493127150786\n",
      "The proportion of shafts confirm to the new specification is  221.84166935889488\n"
     ]
    }
   ],
   "source": [
    "mu = 0.2508\n",
    "sigma = 0.0005\n",
    "ll = 0.25-0.0015\n",
    "ul = 0.25+0.0015\n",
    "p1 = stats.norm.pdf(ll,mu,sigma)\n",
    "p2 = stats.norm.pdf(ul,mu,sigma)\n",
    "p3 = stats.norm.pdf(0.25,mu,sigma)\n",
    "print('The proportion of shafts are in range from ',p1,' to',p2)\n",
    "print('The proportion of shafts confirm to the new specification is ',p3)"
   ]
  },
  {
   "cell_type": "code",
   "execution_count": null,
   "metadata": {},
   "outputs": [],
   "source": []
  }
 ],
 "metadata": {
  "kernelspec": {
   "display_name": "Python 3",
   "language": "python",
   "name": "python3"
  },
  "language_info": {
   "codemirror_mode": {
    "name": "ipython",
    "version": 3
   },
   "file_extension": ".py",
   "mimetype": "text/x-python",
   "name": "python",
   "nbconvert_exporter": "python",
   "pygments_lexer": "ipython3",
   "version": "3.8.5"
  }
 },
 "nbformat": 4,
 "nbformat_minor": 4
}
