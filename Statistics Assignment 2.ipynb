{
 "cells": [
  {
   "cell_type": "code",
   "execution_count": 1,
   "metadata": {},
   "outputs": [],
   "source": [
    "import numpy as np\n",
    "import pandas as pd\n",
    "import matplotlib.pyplot as plt\n",
    "import seaborn as sns\n",
    "import scipy.stats as stats\n",
    "%matplotlib inline"
   ]
  },
  {
   "cell_type": "markdown",
   "metadata": {},
   "source": [
    "### Problem Statement 1:\n",
    "\n",
    "In each of the following situations, state whether it is a correctly stated hypothesis\n",
    "testing problem and why?\n",
    "1. H0: μ = 25, H1: μ ≠ 25\n",
    "2. H0: σ > 10, H1: σ = 10\n",
    "3. H0: x = 50, H1: x ≠ 50\n",
    "4. H0: p = 0.1, H1: p = 0.5\n",
    "5. H0: s = 30, H1: s > 30"
   ]
  },
  {
   "cell_type": "markdown",
   "metadata": {},
   "source": [
    "1. 𝐻0: 𝜇 = 25, 𝐻1: 𝜇 ≠ 25\n",
    "\n",
    "It is stated correctly because alternate hypothesis is totally opposite of null hypothesis and hypothesis always tested on population data."
   ]
  },
  {
   "cell_type": "markdown",
   "metadata": {},
   "source": [
    "2. 𝐻0: 𝜎 > 10, 𝐻1: 𝜎 = 10\n",
    "\n",
    "It is stated correctly because it is tested on population standard deviation."
   ]
  },
  {
   "cell_type": "markdown",
   "metadata": {},
   "source": [
    "3. 𝐻0: x̅ = 50, 𝐻1: x̅ ≠ 50\n",
    "\n",
    "It is not stated correctly because hypothesis testing done on population data. Not in sample data.(x̅ = sample mean)"
   ]
  },
  {
   "cell_type": "markdown",
   "metadata": {},
   "source": [
    "4. 𝐻0: 𝑝 = 0.1, 𝐻1: 𝑝 = 0.5\n",
    "\n",
    "It is not stated correctly because null and alternate hypothesis are opposit to each other. They never be the same."
   ]
  },
  {
   "cell_type": "markdown",
   "metadata": {},
   "source": [
    "5. 𝐻0: 𝑠 = 30, 𝐻1: 𝑠 > 30\n",
    "\n",
    "It is stated incorrectly because hypothesis testing done on population data. Not in sample data. (s = sample statndard deviation)"
   ]
  },
  {
   "cell_type": "markdown",
   "metadata": {},
   "source": [
    "### Problem Statement 2:\n",
    "\n",
    "The college bookstore tells prospective students that the average cost of its textbooks is Rs. 52 with a standard deviation of Rs. 4.50. A group of smart statistics students thinks that the average cost is higher. To test the bookstore’s claim against their alternative, the students will select a random sample of size 100. Assume that the mean from their random sample is Rs. 52.80. Perform a hypothesis test at the 5% level of significance and state your decision."
   ]
  },
  {
   "cell_type": "code",
   "execution_count": 2,
   "metadata": {},
   "outputs": [],
   "source": [
    "#H0 : mean of average cost of textbooks = 52\n",
    "\n",
    "#H1 : mean of average cost of textbooks > 52"
   ]
  },
  {
   "cell_type": "code",
   "execution_count": 3,
   "metadata": {},
   "outputs": [
    {
     "name": "stdout",
     "output_type": "stream",
     "text": [
      "Z-Statistic value = 1.7777777777777715\n",
      "Z-alpha value = 1.6448536269514729\n",
      "P-value = 0.03772017981340073\n"
     ]
    }
   ],
   "source": [
    "n = 100\n",
    "mu = 52\n",
    "sigma = 4.50\n",
    "xbar = 52.80\n",
    "alpha = 0.05\n",
    "se = sigma/np.sqrt(n)  # Statndar Error\n",
    "zstat = (xbar - mu)/se\n",
    "zalpha = stats.norm.isf(0.05)\n",
    "print('Z-Statistic value =',zstat)\n",
    "print('Z-alpha value =',zalpha)\n",
    "pvalue = stats.norm.sf(zstat)\n",
    "print('P-value =',pvalue)"
   ]
  },
  {
   "cell_type": "markdown",
   "metadata": {},
   "source": [
    "As the Z-Statistic > Z-alpha and pvalue < 0.05 , we reject the null hypothesis and accept the alternate hypothesis i.e. mean of average cost of textbooks > 52"
   ]
  },
  {
   "cell_type": "markdown",
   "metadata": {},
   "source": [
    "### Problem Statement 3:\n",
    "\n",
    "A certain chemical pollutant in the Genesee River has been constant for several years with mean μ = 34 ppm (parts per million) and standard deviation σ = 8 ppm. A group of factory representatives whose companies discharge liquids into the river is now claiming that they have lowered the average with improved filtration devices. A group of environmentalists will test to see if this is true at the 1% level of significance. Assume \\ that their sample of size 50 gives a mean of 32.5 ppm. Perform a hypothesis test at the 1% level of significance and state your decision."
   ]
  },
  {
   "cell_type": "code",
   "execution_count": 5,
   "metadata": {},
   "outputs": [],
   "source": [
    "#H0 : mean of a certain chemical pollutant in the Genesee River = 34 ppm\n",
    "#H1 : mean of a certain chemical pollutant in the Genesee River < 34 ppm"
   ]
  },
  {
   "cell_type": "code",
   "execution_count": 6,
   "metadata": {},
   "outputs": [
    {
     "name": "stdout",
     "output_type": "stream",
     "text": [
      "Z-Statistic value = -1.3258252147247767\n",
      "Z-alpha value = -2.3263478740408408\n",
      "P-value = 0.9075512005172\n"
     ]
    }
   ],
   "source": [
    "n = 50\n",
    "mu = 34\n",
    "sigma = 8\n",
    "xbar = 32.5\n",
    "alpha = 0.01\n",
    "se = sigma/np.sqrt(n)  # Statndar Error\n",
    "zstat = (xbar - mu)/se\n",
    "zalpha = stats.norm.ppf(0.01)\n",
    "print('Z-Statistic value =',zstat)\n",
    "print('Z-alpha value =',zalpha)\n",
    "pvalue = stats.norm.sf(zstat)\n",
    "print('P-value =',pvalue)"
   ]
  },
  {
   "cell_type": "markdown",
   "metadata": {},
   "source": [
    "As the mod(Z-Statistic) < mod(Z-alpha) and pvalue > 0.01 , we fail to reject the null hypothesis i.e. mean of a certain chemical pollutant in the Genesee River = 34 ppm"
   ]
  },
  {
   "cell_type": "markdown",
   "metadata": {},
   "source": [
    "### Problem Statement 4:\n",
    "\n",
    "Based on population figures and other general information on the U.S. population, suppose it has been estimated that, on average, a family of four in the U.S. spends about $1135 annually on dental expenditures. Suppose further that a regional dental association wants to test to determine if this figure is accurate for their area of country. To test this, 22 families of 4 are randomly selected from the population in that area of the country and a log is kept of the family’s dental expenditure for one year. The resulting data are given below. Assuming, that dental expenditure is normally distributed in the population, use the data and an alpha of 0.5 to test the dental association’s hypothesis.\n",
    "\n",
    "1008, 812, 1117, 1323, 1308, 1415, 831, 1021, 1287, 851, 930, 730, 699, 872, 913, 944, 954, 987, 1695, 995, 1003, 994"
   ]
  },
  {
   "cell_type": "code",
   "execution_count": 9,
   "metadata": {},
   "outputs": [],
   "source": [
    "#H0 : mean of dental expenditure of a family of 4 in a year = $1135\n",
    "\n",
    "#H1 : mean of dental expenditure of a family of 4 in a year != $1135"
   ]
  },
  {
   "cell_type": "code",
   "execution_count": 10,
   "metadata": {},
   "outputs": [
    {
     "name": "stdout",
     "output_type": "stream",
     "text": [
      "T-Statistic value = -2.023137479931484\n",
      "T-alpha value = -2.0796138447276626\n",
      "P-value = 0.0559738319464585\n"
     ]
    }
   ],
   "source": [
    "n = 22\n",
    "mu = 1135\n",
    "sample = np.array([1008, 812, 1117, 1323, 1308, 1415, 831, 1021, 1287, 851, 930, 730, 699, 872, 913, 944, 954, 987, 1695, 995, 1003, 994])\n",
    "xbar = sample.mean()\n",
    "s = sample.std(ddof = 1)\n",
    "alpha = 0.05\n",
    "se = s/np.sqrt(n)   # Statndar Error\n",
    "tstat = (xbar - mu)/se\n",
    "talphaby2 = stats.t.ppf(alpha/2,n-1)\n",
    "print('T-Statistic value =',tstat)\n",
    "print('T-alpha value =',talphaby2)\n",
    "pvalue = stats.t.cdf(tstat,n-1)*2\n",
    "print('P-value =',pvalue)"
   ]
  },
  {
   "cell_type": "markdown",
   "metadata": {},
   "source": [
    "As the mod(T-Statistic) < mod(T-alpha) and pvalue > 0.05 , we fail to reject the null hypothesis i.e. on an average, the dental expenditure of a family of 4 in a year = $1135"
   ]
  },
  {
   "cell_type": "markdown",
   "metadata": {},
   "source": [
    "### Problem Statement 5:\n",
    "\n",
    "In a report prepared by the Economic Research Department of a major bank the Department manager maintains that the average annual family income on Metropolis is 48,432. What do you conclude about the validity of the report if a random sample of 400 families shows and average income of 48,574 with a standard deviation of 2000?"
   ]
  },
  {
   "cell_type": "code",
   "execution_count": 12,
   "metadata": {},
   "outputs": [],
   "source": [
    "#H0 : Average annual family income on Metropolis = 48,432\n",
    "#H1 : Average annual family income on Metropolis != 48,432"
   ]
  },
  {
   "cell_type": "code",
   "execution_count": 13,
   "metadata": {},
   "outputs": [
    {
     "name": "stdout",
     "output_type": "stream",
     "text": [
      "T-Statistic value = 1.42\n",
      "T-alpha value = 1.9659272959208094\n",
      "P-value = 1.8436114582232594\n"
     ]
    }
   ],
   "source": [
    "n = 400\n",
    "mu = 48432\n",
    "xbar = 48574\n",
    "s = 2000\n",
    "alpha = 0.05\n",
    "se = s/np.sqrt(n)# Statndar Error\n",
    "tstat = (xbar - mu)/se\n",
    "talphaby2 = stats.t.isf(alpha/2,n-1)\n",
    "print('T-Statistic value =',tstat)\n",
    "print('T-alpha value =',talphaby2)\n",
    "pvalue = stats.t.cdf(tstat,n-1)*2\n",
    "print('P-value =',pvalue)"
   ]
  },
  {
   "cell_type": "markdown",
   "metadata": {},
   "source": [
    "As the mod(T-Statistic) < mod(T-alpha) and pvalue > 0.05 , we fail to reject the null hypothesis i.e. Average annual family income on Metropolis is 48,432"
   ]
  },
  {
   "cell_type": "markdown",
   "metadata": {},
   "source": [
    "### Problem Statement 6:\n",
    "\n",
    "Suppose that in past years the average price per square foot for warehouses in the United States has been 32.28. A national real estate investor wants to determine whether that figure has changed now. The investor hires a researcher who randomly samples 19 warehouses that are for sale across the United States and finds that the mean price per square foot is 31.67, with a standard deviation of 1.29. assume that the prices of warehouse footage are normally distributed in population. If the researcher uses a 5% level of significance, what statistical conclusion can be reached? What are the hypotheses?"
   ]
  },
  {
   "cell_type": "code",
   "execution_count": 14,
   "metadata": {},
   "outputs": [],
   "source": [
    "#H0 : Average price per square foot for warehouses in the United States = 32.28\n",
    "#H1 : Average price per square foot for warehouses in the United States != 32.28"
   ]
  },
  {
   "cell_type": "code",
   "execution_count": 15,
   "metadata": {},
   "outputs": [
    {
     "name": "stdout",
     "output_type": "stream",
     "text": [
      "T-Statistic value = -2.06118477175179\n",
      "T-alpha value = -2.10092204024096\n",
      "P-value = 0.0540335291599721\n"
     ]
    }
   ],
   "source": [
    "n = 19\n",
    "mu = 32.28\n",
    "xbar = 31.67\n",
    "s = 1.29\n",
    "alpha = 0.05\n",
    "se = s/np.sqrt(n)# Statndar Error\n",
    "tstat = (xbar - mu)/se\n",
    "talphaby2 = stats.t.ppf(alpha/2,n-1)\n",
    "print('T-Statistic value =',tstat)\n",
    "print('T-alpha value =',talphaby2)\n",
    "pvalue = stats.t.cdf(tstat,n-1)*2\n",
    "print('P-value =',pvalue)"
   ]
  },
  {
   "cell_type": "markdown",
   "metadata": {},
   "source": [
    "As the mod(T-Statistic) < mod(T-alpha) and pvalue > 0.05 , we fail to reject the null hypothesis i.e. Average price per square foot for warehouses in the United States is 32.28"
   ]
  },
  {
   "cell_type": "markdown",
   "metadata": {},
   "source": [
    "### Problem Statement 7:\n",
    "\n",
    "Fill in the blank spaces in the table and draw your conclusions from it."
   ]
  },
  {
   "cell_type": "code",
   "execution_count": 16,
   "metadata": {},
   "outputs": [
    {
     "name": "stdout",
     "output_type": "stream",
     "text": [
      "The value of α in the acceptance area 48.5 < x̅ < 51.5 for sample size = 10 is 0.057779571123597204\n",
      "The value of β at μ = 52 and acceptance area 48.5 < x̅ < 51.5 for sample size = 10 is 0.26353985497284643\n",
      "The value of β at μ = 50.5 and acceptance area 48.5 < x̅ < 51.5 for sample size = 10 is 0.8913423764409649\n"
     ]
    }
   ],
   "source": [
    "n = 10\n",
    "mu = 50\n",
    "sigma = 2.5\n",
    "ul = 51.5   # Upper Limit\n",
    "ll = 48.5   # Lower Limit\n",
    "se = sigma/np.sqrt(n)  # Statndar Error\n",
    "zcrit = (ul - mu)/se   # Z-Critical value\n",
    "alpha = stats.norm.sf(zcrit)*2  # The value of α\n",
    "mu1 = 52\n",
    "zstatll = (ll - mu1)/se  # for Z <= -4.43 \n",
    "zstatul = (ul - mu1)/se  # for Z <= -0.63\n",
    "beta = stats.norm.cdf(zstatul) - stats.norm.cdf(zstatll) # P(Z ≤ −0.63)−P(Z ≤ −4.43)\n",
    "mu2 = 50.5\n",
    "zstatll = (ll - mu2)/se  # Z <= -2.53 \n",
    "zstatul = (ul - mu2)/se  # Z <= 1.27\n",
    "beta2 = stats.norm.cdf(zstatul) - stats.norm.cdf(zstatll)  #= P(Z ≤ 1.27)−P(Z ≤ −2.53)\n",
    "print ('The value of α in the acceptance area 48.5 < x̅ < 51.5 for sample size = 10 is',alpha)\n",
    "print('The value of β at μ = 52 and acceptance area 48.5 < x̅ < 51.5 for sample size = 10 is',beta)\n",
    "print('The value of β at μ = 50.5 and acceptance area 48.5 < x̅ < 51.5 for sample size = 10 is',beta2)"
   ]
  },
  {
   "cell_type": "code",
   "execution_count": 17,
   "metadata": {},
   "outputs": [
    {
     "name": "stdout",
     "output_type": "stream",
     "text": [
      "The value of α in the acceptance area 48 < x̅ < 52 for sample size = 10 is 0.011412036386001651\n",
      "The value of β at μ = 52 and acceptance area 48 < x̅ < 52 for sample size = 10 is 0.4999997899803012\n",
      "The value of β at μ = 50.5 and acceptance area 48 < x̅ < 52 for sample size = 10 is 0.9703275133092002\n"
     ]
    }
   ],
   "source": [
    "n = 10\n",
    "mu = 50\n",
    "sigma = 2.5\n",
    "ul = 52\n",
    "ll = 48\n",
    "se = sigma/np.sqrt(n)\n",
    "zstat = (ul - mu)/se\n",
    "alpha = stats.norm.sf(zstat)*2  # The value of α\n",
    "mu1 = 52\n",
    "zstatll = (ll - mu1)/se \n",
    "zstatul = (ul - mu1)/se \n",
    "beta = stats.norm.cdf(zstatul) - stats.norm.cdf(zstatll)\n",
    "mu2 = 50.5\n",
    "zstatll = (ll - mu2)/se  \n",
    "zstatul = (ul - mu2)/se  \n",
    "beta2 = stats.norm.cdf(zstatul) - stats.norm.cdf(zstatll)\n",
    "print ('The value of α in the acceptance area 48 < x̅ < 52 for sample size = 10 is',alpha)\n",
    "print('The value of β at μ = 52 and acceptance area 48 < x̅ < 52 for sample size = 10 is',beta)\n",
    "print('The value of β at μ = 50.5 and acceptance area 48 < x̅ < 52 for sample size = 10 is',beta2)"
   ]
  },
  {
   "cell_type": "code",
   "execution_count": 18,
   "metadata": {},
   "outputs": [
    {
     "name": "stdout",
     "output_type": "stream",
     "text": [
      "The value of α in the acceptance area 48.81 < x̅ < 51.9 for sample size = 16 is 0.00236578148620883\n",
      "The value of β at μ = 52 and acceptance area 48.81 < x̅ < 51.9 for sample size = 16 is 0.4364403708344303\n",
      "The value of β at μ = 50.5 and acceptance area 48.81 < x̅ < 51.9 for sample size = 16 is 0.9840290241059673\n"
     ]
    }
   ],
   "source": [
    "n = 16\n",
    "mu = 50\n",
    "sigma = 2.5\n",
    "ul = 51.9\n",
    "ll = 48.81\n",
    "se = sigma/np.sqrt(n)\n",
    "zstat = (ul - mu)/se\n",
    "alpha = stats.norm.sf(zstat)*2  # The value of α\n",
    "mu1 = 52\n",
    "zstatll = (ll - mu1)/se \n",
    "zstatul = (ul - mu1)/se \n",
    "beta = stats.norm.cdf(zstatul) - stats.norm.cdf(zstatll)\n",
    "mu2 = 50.5\n",
    "zstatll = (ll - mu2)/se  \n",
    "zstatul = (ul - mu2)/se  \n",
    "beta2 = stats.norm.cdf(zstatul) - stats.norm.cdf(zstatll)\n",
    "print ('The value of α in the acceptance area 48.81 < x̅ < 51.9 for sample size = 16 is',alpha)\n",
    "print('The value of β at μ = 52 and acceptance area 48.81 < x̅ < 51.9 for sample size = 16 is',beta)\n",
    "print('The value of β at μ = 50.5 and acceptance area 48.81 < x̅ < 51.9 for sample size = 16 is',beta2)"
   ]
  },
  {
   "cell_type": "code",
   "execution_count": 20,
   "metadata": {},
   "outputs": [
    {
     "name": "stdout",
     "output_type": "stream",
     "text": [
      "The value of α in the acceptance area 48.42 < x̅ < 51.58 for sample size = 16 is 0.011471435197072154\n",
      "The value of β at μ = 52 and acceptance area 48.42 < x̅ < 51.58 for sample size = 16 is 0.25079184307889046\n",
      "The value of β at μ = 50.5 and acceptance area 48.42 < x̅ < 51.58 for sample size = 16 is 0.9575685284788618\n"
     ]
    }
   ],
   "source": [
    "n = 16\n",
    "mu = 50\n",
    "sigma = 2.5\n",
    "ul = 51.58\n",
    "ll = 48.42\n",
    "se = sigma/np.sqrt(n)\n",
    "zstat = (ul - mu)/se\n",
    "alpha = stats.norm.sf(zstat)*2  # The value of α\n",
    "mu1 = 52\n",
    "zstatll = (ll - mu1)/se \n",
    "zstatul = (ul - mu1)/se \n",
    "beta = stats.norm.cdf(zstatul) - stats.norm.cdf(zstatll)\n",
    "mu2 = 50.5\n",
    "zstatll = (ll - mu2)/se  \n",
    "zstatul = (ul - mu2)/se  \n",
    "beta2 = stats.norm.cdf(zstatul) - stats.norm.cdf(zstatll)\n",
    "print ('The value of α in the acceptance area 48.42 < x̅ < 51.58 for sample size = 16 is',alpha)\n",
    "print('The value of β at μ = 52 and acceptance area 48.42 < x̅ < 51.58 for sample size = 16 is',beta)\n",
    "print('The value of β at μ = 50.5 and acceptance area 48.42 < x̅ < 51.58 for sample size = 16 is',beta2)"
   ]
  },
  {
   "cell_type": "markdown",
   "metadata": {},
   "source": [
    "Conclusions:\n",
    "\n",
    "The size of the critical region, and consequently the probability of a type I error α, can always be reduced by appropriate selection of the critical values.\n",
    "\n",
    "• Type I and type II errors are related. When sample size n is fixed, a decrease in the probability of one type of error always results in an increase in the probability of the other.\n",
    "\n",
    "• An increase in sample size will generally reduce both α and β, provided that the critical values are held constant.\n",
    "\n",
    "• When the null hypothesis is false, β increases as the true value of the parameter approaches the value hypothesized in the null hypothesis"
   ]
  },
  {
   "cell_type": "markdown",
   "metadata": {},
   "source": [
    "### Problem Statement 8:\n",
    "\n",
    "Find the t-score for a sample size of 16 taken from a population with mean 10 when the sample mean is 12 and the sample standard deviation is 1.5."
   ]
  },
  {
   "cell_type": "code",
   "execution_count": 23,
   "metadata": {},
   "outputs": [
    {
     "name": "stdout",
     "output_type": "stream",
     "text": [
      "t-score = 5.333333333333333\n"
     ]
    }
   ],
   "source": [
    "n = 16\n",
    "mu = 10\n",
    "xbar = 12\n",
    "s = 1.5\n",
    "se = s/np.sqrt(n)\n",
    "t_score = (xbar - mu)/se\n",
    "print('t-score =',t_score)"
   ]
  },
  {
   "cell_type": "markdown",
   "metadata": {},
   "source": [
    "### Problem Statement 9:\n",
    "\n",
    "Find the t-score below which we can expect 99% of sample means will fall if samples of size 16 are taken from a normally distributed population."
   ]
  },
  {
   "cell_type": "code",
   "execution_count": 24,
   "metadata": {},
   "outputs": [
    {
     "data": {
      "text/plain": [
       "-2.946712883338615"
      ]
     },
     "execution_count": 24,
     "metadata": {},
     "output_type": "execute_result"
    }
   ],
   "source": [
    "n = 16\n",
    "cl = 0.99\n",
    "alpha = 1 - cl\n",
    "talpha = stats.t.ppf(alpha/2,n-1)\n",
    "talpha"
   ]
  },
  {
   "cell_type": "markdown",
   "metadata": {},
   "source": [
    "t-score is in range -2.946712883338615 < t-score < 2.946712883338615"
   ]
  },
  {
   "cell_type": "markdown",
   "metadata": {},
   "source": [
    "### Problem Statement 10:\n",
    "\n",
    "If a random sample of size 25 drawn from a normal population gives a mean of 60 and a standard deviation of 4, find the range of t-scores where we can expect to find the middle 95% of all sample means. Compute the probability that (−𝑡0.05 <𝑡<𝑡0.10)."
   ]
  },
  {
   "cell_type": "code",
   "execution_count": 25,
   "metadata": {},
   "outputs": [
    {
     "data": {
      "text/plain": [
       "(-1.7108820799094275, -1.3178359318596027)"
      ]
     },
     "execution_count": 25,
     "metadata": {},
     "output_type": "execute_result"
    }
   ],
   "source": [
    "n = 25\n",
    "cl1 = 0.95\n",
    "alpha1 = 1 - cl1\n",
    "alpha2 = 0.1\n",
    "talpha1 = stats.t.ppf(alpha1,n-1)\n",
    "talpha2 = stats.t.ppf(alpha2,n-1)\n",
    "talpha1,talpha2"
   ]
  },
  {
   "cell_type": "markdown",
   "metadata": {},
   "source": [
    "### Problem Statement 11:\n",
    "\n",
    "Two-tailed test for difference between two population means Is there evidence to conclude that the number of people travelling from Bangalore to Chennai is different from the number of people travelling from Bangalore to Hosur in a week, given the following:\n",
    "\n",
    "Population 1: Bangalore to Chennai\n",
    "\n",
    "n1 = 1200\n",
    "\n",
    "x1 = 452\n",
    "\n",
    "s1 = 212\n",
    "\n",
    "Population 2: Bangalore to Hosur\n",
    "\n",
    "n2 = 800\n",
    "\n",
    "x2 = 523\n",
    "\n",
    "s2 = 185"
   ]
  },
  {
   "cell_type": "code",
   "execution_count": 26,
   "metadata": {},
   "outputs": [],
   "source": [
    "#H0 : population mean(Bangalore to Chennai) - population mean(Bangalore to Hosur) = 0\n",
    "\n",
    "#H1 : population mean(Bangalore to Chennai) - population mean(Bangalore to Hosur) != 0"
   ]
  },
  {
   "cell_type": "code",
   "execution_count": 27,
   "metadata": {},
   "outputs": [
    {
     "name": "stdout",
     "output_type": "stream",
     "text": [
      "T-Statistic value = -7.926428526759299\n",
      "T-alpha value = -0.06271465548986041\n",
      "P-value = 3.7154188748777314e-15\n"
     ]
    }
   ],
   "source": [
    "n1 = 1200\n",
    "x1 = 452\n",
    "s1 = 212\n",
    "n2 = 800\n",
    "x2 = 523\n",
    "s2 = 185\n",
    "alpha = 0.95\n",
    "se = np.sqrt((s1**2/n1) + (s2**2/n2))\n",
    "tstat = (x1 - x2)/se\n",
    "talphaby2 = stats.t.ppf(alpha/2,n1+n2-2)\n",
    "print('T-Statistic value =',tstat)\n",
    "print('T-alpha value =',talphaby2)\n",
    "pvalue = stats.t.cdf(tstat,n1+n2-2)*2\n",
    "print('P-value =',pvalue)"
   ]
  },
  {
   "cell_type": "markdown",
   "metadata": {},
   "source": [
    "As the mod(T-Statistic) > mod(T-alpha) and pvalue < 0.05 , we reject the null hypothesis and accept the alternate hypothesis i.e. population mean(Bangalore to Chennai) - population mean(Bangalore to Hosur) != 0. So the number of people travelling from Bangalore to Chennai is different from the number of people travelling from Bangalore to Hosur in a week"
   ]
  },
  {
   "cell_type": "markdown",
   "metadata": {},
   "source": [
    "### Problem Statement 12:\n",
    "\n",
    "Is there evidence to conclude that the number of people preferring Duracell battery is different from the number of people preferring Energizer battery, given the following:\n",
    "\n",
    "Population 1: Duracell\n",
    "\n",
    "n1 = 100\n",
    "\n",
    "x1 = 308\n",
    "\n",
    "s1 = 84\n",
    "\n",
    "Population 2: Energizer\n",
    "\n",
    "n2 = 100\n",
    "\n",
    "x2 = 254\n",
    "\n",
    "s2 = 67"
   ]
  },
  {
   "cell_type": "code",
   "execution_count": 28,
   "metadata": {},
   "outputs": [],
   "source": [
    "#H0 : population mean(Duracell Battery) - population mean(Energizer Battery) = 0\n",
    "\n",
    "#H1 : population mean(Duracell Battery) - population mean(Energizer Battery) > 0"
   ]
  },
  {
   "cell_type": "code",
   "execution_count": 29,
   "metadata": {},
   "outputs": [
    {
     "name": "stdout",
     "output_type": "stream",
     "text": [
      "T-Statistic value = 5.025702668336442\n",
      "T-alpha value = 1.6525857836172075\n",
      "P-value = 5.592823870574184e-07\n"
     ]
    }
   ],
   "source": [
    "n1 = 100\n",
    "x1 = 308\n",
    "s1 = 84\n",
    "n2 = 100\n",
    "x2 = 254\n",
    "s2 = 67\n",
    "alpha = 0.95\n",
    "se = np.sqrt((s1**2/n1) + (s2**2/n2))\n",
    "tstat = (x1 - x2)/se\n",
    "talphaby2 = stats.t.ppf(alpha,n1+n2-2)\n",
    "print('T-Statistic value =',tstat)\n",
    "print('T-alpha value =',talphaby2)\n",
    "pvalue = stats.t.sf(tstat,n1+n2-2)\n",
    "print('P-value =',pvalue)"
   ]
  },
  {
   "cell_type": "markdown",
   "metadata": {},
   "source": [
    "As the mod(T-Statistic) > mod(T-alpha) and pvalue < 0.05 , we reject the null hypothesis and accept the alternate hypothesis i.e. population mean(Duracell Battery) - population mean(Energizer Battery) > 0. So the number of people preferring Duracell battery is different from the number of people preferring Energizer battery."
   ]
  },
  {
   "cell_type": "markdown",
   "metadata": {},
   "source": [
    "### Problem Statement 13:\n",
    "\n",
    "Pooled estimate of the population variance\n",
    "\n",
    "Does the data provide sufficient evidence to conclude that average percentage increase in the price of sugar differs when it is sold at two different prices?\n",
    "\n",
    "Population 1: Price of sugar = Rs. 27.50\n",
    "\n",
    "n1 = 14\n",
    "\n",
    "x1 = 0.317%\n",
    "\n",
    "s1 = 0.12%\n",
    "\n",
    "Population 2: Price of sugar = Rs. 20.00\n",
    "\n",
    "n2 = 9\n",
    "\n",
    "x2 = 0.21%\n",
    "\n",
    "s2 = 0.11%"
   ]
  },
  {
   "cell_type": "code",
   "execution_count": 31,
   "metadata": {},
   "outputs": [],
   "source": [
    "#H0 : population1 mean - population2 mean = 0\n",
    "\n",
    "#H1 : population1 mean - population2 mean > 0"
   ]
  },
  {
   "cell_type": "code",
   "execution_count": 32,
   "metadata": {},
   "outputs": [
    {
     "data": {
      "text/plain": [
       "Ttest_relResult(statistic=-4.592887798896382, pvalue=0.1364798873881824)"
      ]
     },
     "execution_count": 32,
     "metadata": {},
     "output_type": "execute_result"
    }
   ],
   "source": [
    "n1 = 14\n",
    "x1 = 0.317\n",
    "s1 = 0.12\n",
    "n2 = 9\n",
    "x2 = 0.21\n",
    "s2 = 0.11\n",
    "stats.ttest_rel([x1,x2],[n1,n2])"
   ]
  },
  {
   "cell_type": "markdown",
   "metadata": {},
   "source": [
    "As pvalue > 0.05 , we fail to reject the null hypothesis i.e. population1 mean - population2 mean = 0. So average percentage increase in the price of sugar does not differ when it is sold at two different prices."
   ]
  },
  {
   "cell_type": "markdown",
   "metadata": {},
   "source": [
    "### Problem Statement 14:\n",
    "\n",
    "The manufacturers of compact disk players want to test whether a small price reduction is enough to increase sales of their product. Is there evidence that the small price reduction is enough to increase sales of compact disk players?\n",
    "\n",
    "Population 1: Before reduction\n",
    "\n",
    "n1 = 15\n",
    "\n",
    "x1 = Rs. 6598\n",
    "\n",
    "s1 = Rs. 844\n",
    "\n",
    "Population 2: After reduction\n",
    "\n",
    "n2 = 12\n",
    "\n",
    "x2 = RS. 6870\n",
    "\n",
    "s2 = Rs. 669"
   ]
  },
  {
   "cell_type": "code",
   "execution_count": 33,
   "metadata": {},
   "outputs": [],
   "source": [
    "#H0 : population1 mean - population2 mean = 0\n",
    "\n",
    "#H1 : population1 mean - population2 mean > 0"
   ]
  },
  {
   "cell_type": "code",
   "execution_count": 34,
   "metadata": {},
   "outputs": [
    {
     "data": {
      "text/plain": [
       "Ttest_relResult(statistic=48.876363636363635, pvalue=0.013023288088995388)"
      ]
     },
     "execution_count": 34,
     "metadata": {},
     "output_type": "execute_result"
    }
   ],
   "source": [
    "n1 = 15\n",
    "x1 = 6598\n",
    "s1 = 844\n",
    "n2 = 12\n",
    "x2 = 6870\n",
    "s2 = 669\n",
    "stats.ttest_rel([x1,x2],[n1,n2])"
   ]
  },
  {
   "cell_type": "markdown",
   "metadata": {},
   "source": [
    "As pvalue < 0.05 , We reject the null hypothesis and accept the alternate hypothesis i.e. population1 mean - population2 mean > 0. So the small price reduction is enough to increase sales of compact disk players."
   ]
  },
  {
   "cell_type": "markdown",
   "metadata": {},
   "source": [
    "### Problem Statement 15:\n",
    "\n",
    "Comparisons of two population proportions when the hypothesized difference is zero Carry out a two-tailed test of the equality of banks’ share of the car loan market in 1980 and 1995.\n",
    "\n",
    "Population 1: 1980\n",
    "\n",
    "n1 = 100\n",
    "\n",
    "x1 = 53\n",
    "\n",
    "𝑝1 = 0.53\n",
    "\n",
    "Population 2: 1985\n",
    "\n",
    "n2 = 100\n",
    "\n",
    "x2 = 43\n",
    "\n",
    "𝑝2= 0.43"
   ]
  },
  {
   "cell_type": "code",
   "execution_count": 36,
   "metadata": {},
   "outputs": [],
   "source": [
    "#H0 : population1 mean - population2 mean = 0\n",
    "\n",
    "#H1 : population1 mean - population2 mean != 0"
   ]
  },
  {
   "cell_type": "code",
   "execution_count": 37,
   "metadata": {},
   "outputs": [
    {
     "name": "stdout",
     "output_type": "stream",
     "text": [
      "Z-Statistic value = 1.4153462926807452\n",
      "Z-alpha value = 1.6448536269514722\n"
     ]
    }
   ],
   "source": [
    "n1 = 100\n",
    "x1 = 53\n",
    "p1 = 0.53\n",
    "n2 = 100\n",
    "x2 = 43\n",
    "p2= 0.43\n",
    "alpha = 0.95\n",
    "p = (x1+x2)/(n1+n2)\n",
    "q = 1 - p\n",
    "z = (p1 - p2)/np.sqrt(p*q*((1/n1)+(1/n2)))\n",
    "zalpha = stats.norm.ppf(alpha)\n",
    "print('Z-Statistic value =',z)\n",
    "print('Z-alpha value =',zalpha)"
   ]
  },
  {
   "cell_type": "markdown",
   "metadata": {},
   "source": [
    "As Z-Statistic < Z-Alpha , we fail to reject null hypothesis i.e. population1 mean - population2 mean = 0. So the equality of banks’ share of the car loan market in 1980 and 1995 is same."
   ]
  },
  {
   "cell_type": "markdown",
   "metadata": {},
   "source": [
    "### Problem Statement 16:\n",
    "\n",
    "Carry out a one-tailed test to determine whether the population proportion of traveler’s check buyers who buy at least $2500 in checks when sweepstakes prizes are offered as at least 10% higher than the proportion of such buyers when no sweepstakes are on.\n",
    "\n",
    "Population 1: With sweepstakes\n",
    "\n",
    "n1 = 300\n",
    "\n",
    "x1 = 120\n",
    "\n",
    "𝑝1 = 0.40\n",
    "\n",
    "Population 2: No sweepstakes\n",
    "\n",
    "n2 = 700\n",
    "\n",
    "x2 = 140\n",
    "\n",
    "𝑝2= 0.20"
   ]
  },
  {
   "cell_type": "code",
   "execution_count": 38,
   "metadata": {},
   "outputs": [],
   "source": [
    "#H0 : population1 mean - population2 mean <= 0.1\n",
    "\n",
    "#H1 : population1 mean - population2 mean > 0.1"
   ]
  },
  {
   "cell_type": "code",
   "execution_count": 39,
   "metadata": {},
   "outputs": [
    {
     "name": "stdout",
     "output_type": "stream",
     "text": [
      "Z-Statistic value = 3.1180478223116177\n",
      "Z-alpha value = 3.090232306167813\n"
     ]
    }
   ],
   "source": [
    "n1 = 300\n",
    "x1 = 120\n",
    "p1 = 0.40\n",
    "n2 = 700\n",
    "x2 = 140\n",
    "p2= 0.20\n",
    "alpha = 0.001\n",
    "d = 0.1\n",
    "q1 = 1 - p1\n",
    "q2 = 1 - p2\n",
    "z = ((p1 - p2) - d)/np.sqrt(((p1*q1)/n1)+((p2*q2)/n2))\n",
    "zalpha = stats.norm.isf(alpha)\n",
    "print('Z-Statistic value =',z)\n",
    "print('Z-alpha value =',zalpha)"
   ]
  },
  {
   "cell_type": "markdown",
   "metadata": {},
   "source": [
    "As Z-Statistic < Z-Alpha , we reject null hypothesis and accept alternate hypothesis i.e. population1 mean - population2 mean > 0.10. So the population proportion of traveler’s check buyers who buy at least $2500 in checks when sweepstakes prizes are offered as at least 10% higher than the proportion of such buyers when no sweepstakes are on."
   ]
  },
  {
   "cell_type": "markdown",
   "metadata": {},
   "source": [
    "### Problem Statement 17:\n",
    "\n",
    "A die is thrown 132 times with the following results: Number turned up: 1, 2, 3, 4, 5, 6\n",
    "\n",
    "Frequency: 16, 20, 25, 14, 29, 28\n",
    "\n",
    "Is the die unbiased? Consider the degrees of freedom as 𝑝 − 1."
   ]
  },
  {
   "cell_type": "code",
   "execution_count": 41,
   "metadata": {},
   "outputs": [],
   "source": [
    "#H0 : The die is biased.\n",
    "\n",
    "#H1 : The die is not biased."
   ]
  },
  {
   "cell_type": "code",
   "execution_count": 42,
   "metadata": {},
   "outputs": [
    {
     "data": {
      "text/plain": [
       "Power_divergenceResult(statistic=9.0, pvalue=0.1090641579497725)"
      ]
     },
     "execution_count": 42,
     "metadata": {},
     "output_type": "execute_result"
    }
   ],
   "source": [
    "observation = np.array([16, 20, 25, 14, 29, 28])\n",
    "expected = np.ones(6)*22\n",
    "stats.chisquare(observation,expected)"
   ]
  },
  {
   "cell_type": "markdown",
   "metadata": {},
   "source": [
    "As pvalue > 0.05 , we fail to reject the null hypothesis i.e. the die is biased."
   ]
  },
  {
   "cell_type": "markdown",
   "metadata": {},
   "source": [
    "### Problem Statement 18:\n",
    "\n",
    "In a certain town, there are about one million eligible voters. A simple random sample of 10,000 eligible voters was chosen to study the relationship between gender and participation in the last election. The results are summarized in the following 2X2 (read two by two) contingency table:\n",
    "\n",
    "\n",
    "We would want to check whether being a man or a woman (columns) is independent of having voted in the last election (rows). In other words, is “gender and voting independent”?"
   ]
  },
  {
   "cell_type": "code",
   "execution_count": 43,
   "metadata": {},
   "outputs": [],
   "source": [
    "#H0 : gender and voting are independent\n",
    "\n",
    "#H1 : gender and voting are not independent"
   ]
  },
  {
   "cell_type": "code",
   "execution_count": 44,
   "metadata": {},
   "outputs": [
    {
     "data": {
      "text/plain": [
       "array([[2792, 3591],\n",
       "       [1486, 2131]])"
      ]
     },
     "execution_count": 44,
     "metadata": {},
     "output_type": "execute_result"
    }
   ],
   "source": [
    "n = np.array([2792,3591,1486,2131]).reshape(2,2)\n",
    "n"
   ]
  },
  {
   "cell_type": "code",
   "execution_count": 45,
   "metadata": {},
   "outputs": [
    {
     "data": {
      "text/plain": [
       "(6.552337973968181,\n",
       " 0.01047464310091866,\n",
       " 1,\n",
       " array([[2730.6474, 3652.3526],\n",
       "        [1547.3526, 2069.6474]]))"
      ]
     },
     "execution_count": 45,
     "metadata": {},
     "output_type": "execute_result"
    }
   ],
   "source": [
    "stats.chi2_contingency(n)"
   ]
  },
  {
   "cell_type": "markdown",
   "metadata": {},
   "source": [
    "As P-value is less than 0.05 so we reject null hypothesis and accept the alternate hypothesis i.e. Gender and Voting are dependent."
   ]
  },
  {
   "cell_type": "markdown",
   "metadata": {},
   "source": [
    "### Problem Statement 19:\n",
    "\n",
    "A sample of 100 voters are asked which of four candidates they would vote for in an election. The number supporting each candidate is given below:\n",
    "\n",
    "\n",
    "\n",
    "Do the data suggest that all candidates are equally popular? [Chi-Square = 14.96, with 3 df, 𝑝 < 0.05 ]."
   ]
  },
  {
   "cell_type": "code",
   "execution_count": 46,
   "metadata": {},
   "outputs": [],
   "source": [
    "#H0 : all candidates are equally popular\n",
    "\n",
    "#H1 : all candidates are not equally popular"
   ]
  },
  {
   "cell_type": "code",
   "execution_count": 47,
   "metadata": {},
   "outputs": [
    {
     "data": {
      "text/plain": [
       "Power_divergenceResult(statistic=14.959999999999999, pvalue=0.001851152735284203)"
      ]
     },
     "execution_count": 47,
     "metadata": {},
     "output_type": "execute_result"
    }
   ],
   "source": [
    "n = np.array([41,19,24,16])\n",
    "stats.chisquare(n)"
   ]
  },
  {
   "cell_type": "markdown",
   "metadata": {},
   "source": [
    "As P-value is less than 0.05 so we reject null hypothesis and accept the alternate hypothesis i.e. all candidates are not equally popular."
   ]
  },
  {
   "cell_type": "markdown",
   "metadata": {},
   "source": [
    "### Problem Statement 20:\n",
    "\n",
    "Children of three ages are asked to indicate their preference for three photographs of adults. Do the data suggest that there is a significant relationship between age and photograph preference? What is wrong with this study? [Chi-Square = 29.6, with 4 df: 𝑝 < 0.05]."
   ]
  },
  {
   "cell_type": "code",
   "execution_count": 48,
   "metadata": {},
   "outputs": [],
   "source": [
    "#Ho : there is a significant relationship between age and photograph preference\n",
    "\n",
    "#H1 : there is no significant relationship between age and photograph preference"
   ]
  },
  {
   "cell_type": "code",
   "execution_count": 49,
   "metadata": {},
   "outputs": [
    {
     "data": {
      "text/plain": [
       "(29.603174603174608,\n",
       " 5.894582174262606e-06,\n",
       " 4,\n",
       " array([[12., 18., 30.],\n",
       "        [14., 21., 35.],\n",
       "        [14., 21., 35.]]))"
      ]
     },
     "execution_count": 49,
     "metadata": {},
     "output_type": "execute_result"
    }
   ],
   "source": [
    "table = np.array([18,22,20,2,28,40,20,10,40]).reshape(3,3)\n",
    "stats.chi2_contingency(table)"
   ]
  },
  {
   "cell_type": "markdown",
   "metadata": {},
   "source": [
    "As P-value is less than 0.05 so we reject null hypothesis and accept the alternate hypothesis i.e. there is no significant relationship between age and photograph preference."
   ]
  },
  {
   "cell_type": "markdown",
   "metadata": {},
   "source": [
    "### Problem Statement 21:\n",
    "\n",
    "A study of conformity using the Asch paradigm involved two conditions: one where one confederate supported the true judgement and another where no confederate gave the correct response.\n",
    "\n",
    "\n",
    "Is there a significant difference between the \"support\" and \"no support\" conditions in the frequency with which individuals are likely to conform? [Chi-Square = 19.87, with 1 df: 𝑝 < 0.05]."
   ]
  },
  {
   "cell_type": "code",
   "execution_count": 50,
   "metadata": {},
   "outputs": [],
   "source": [
    "#H0 : there is no significant difference between the \"support\" and \"no support\" conditions in the frequency with which individuals are likely to conform\n",
    "\n",
    "#H1 : there is a significant difference between the \"support\" and \"no support\" conditions in the frequency with which individuals are likely to conform"
   ]
  },
  {
   "cell_type": "code",
   "execution_count": 51,
   "metadata": {},
   "outputs": [
    {
     "data": {
      "text/plain": [
       "(18.10344827586207,\n",
       " 2.092221924065813e-05,\n",
       " 1,\n",
       " array([[29., 29.],\n",
       "        [21., 21.]]))"
      ]
     },
     "execution_count": 51,
     "metadata": {},
     "output_type": "execute_result"
    }
   ],
   "source": [
    "table = np.array([18,40,32,10]).reshape(2,2)\n",
    "stats.chi2_contingency(table)"
   ]
  },
  {
   "cell_type": "markdown",
   "metadata": {},
   "source": [
    "As P-value is less than 0.05 so we reject null hypothesis and accept the alternate hypothesis i.e. there is a significant difference between the \"support\" and \"no support\" conditions in the frequency with which individuals are likely to conform."
   ]
  },
  {
   "cell_type": "markdown",
   "metadata": {},
   "source": [
    "### Problem Statement 22:\n",
    "\n",
    "We want to test whether short people differ with respect to their leadership qualities (Genghis Khan, Adolf Hitler and Napoleon were all stature-deprived, and how many midget MP's are there?) The following table shows the frequencies with which 43 short people and 52 tall people were categorized as \"leaders\", \"followers\" or as \"unclassifiable\". Is there a relationship between height and leadership qualities?\n",
    "\n",
    "[Chi-Square = 10.71, with 2 df: 𝑝 < 0.01]."
   ]
  },
  {
   "cell_type": "code",
   "execution_count": 53,
   "metadata": {},
   "outputs": [],
   "source": [
    "#H0 : there is a relationship between height and leadership qualities\n",
    "\n",
    "#H1 : there is no relationship between height and leadership qualities"
   ]
  },
  {
   "cell_type": "code",
   "execution_count": 54,
   "metadata": {},
   "outputs": [
    {
     "data": {
      "text/plain": [
       "(10.712198008709638,\n",
       " 0.004719280137040844,\n",
       " 2,\n",
       " array([[19.91578947, 24.08421053],\n",
       "        [16.29473684, 19.70526316],\n",
       "        [ 6.78947368,  8.21052632]]))"
      ]
     },
     "execution_count": 54,
     "metadata": {},
     "output_type": "execute_result"
    }
   ],
   "source": [
    "table = np.array([12,32,22,14,9,6]).reshape(3,2)\n",
    "stats.chi2_contingency(table)"
   ]
  },
  {
   "cell_type": "markdown",
   "metadata": {},
   "source": [
    "As P-value is less than 0.01 so we reject null hypothesis and accept the alternate hypothesis i.e. there is no relationship between height and leadership qualities."
   ]
  },
  {
   "cell_type": "markdown",
   "metadata": {},
   "source": [
    "### Problem Statement 23:\n",
    "\n",
    "Each respondent in the Current Population Survey of March 1993 was classified as employed, unemployed, or outside the labor force. The results for men in California age 35- 44 can be cross-tabulated by marital status, as follows:\n",
    "\n",
    "\n",
    "\n",
    "Men of different marital status seem to have different distributions of labor force status. Or is this just chance variation? (you may assume the table results from a simple random sample.)"
   ]
  },
  {
   "cell_type": "code",
   "execution_count": 55,
   "metadata": {},
   "outputs": [],
   "source": [
    "#H0 : There is a relationship between Marital Status and Employment\n",
    "\n",
    "#H1 : There is no relationship between Marital Status and Employment"
   ]
  },
  {
   "cell_type": "code",
   "execution_count": 56,
   "metadata": {},
   "outputs": [
    {
     "data": {
      "text/plain": [
       "(31.61310319407798,\n",
       " 2.2949883042859918e-06,\n",
       " 4,\n",
       " array([[654.06331471, 109.2886406 , 132.64804469],\n",
       "        [ 67.88826816,  11.34357542,  13.76815642],\n",
       "        [ 62.04841713,  10.36778399,  12.58379888]]))"
      ]
     },
     "execution_count": 56,
     "metadata": {},
     "output_type": "execute_result"
    }
   ],
   "source": [
    "table = np.array([679,103,114,63,10,20,42,18,25]).reshape(3,3)\n",
    "stats.chi2_contingency(table)"
   ]
  },
  {
   "cell_type": "markdown",
   "metadata": {},
   "source": [
    "As P-value is less than 0.05 so we reject null hypothesis and accept the alternate hypothesis i.e. There is no relationship between Marital Status and Employment."
   ]
  },
  {
   "cell_type": "code",
   "execution_count": null,
   "metadata": {},
   "outputs": [],
   "source": []
  }
 ],
 "metadata": {
  "kernelspec": {
   "display_name": "Python 3",
   "language": "python",
   "name": "python3"
  },
  "language_info": {
   "codemirror_mode": {
    "name": "ipython",
    "version": 3
   },
   "file_extension": ".py",
   "mimetype": "text/x-python",
   "name": "python",
   "nbconvert_exporter": "python",
   "pygments_lexer": "ipython3",
   "version": "3.8.5"
  }
 },
 "nbformat": 4,
 "nbformat_minor": 4
}
